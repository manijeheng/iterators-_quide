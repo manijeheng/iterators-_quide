{
 "cells": [
  {
   "cell_type": "code",
   "execution_count": null,
   "id": "fb4c1ea1",
   "metadata": {},
   "outputs": [],
   "source": [
    "# iterators:\n",
    "#  Iterators power and control the iteration process, while iterables typically hold data that you want to iterate over.\n",
    "#  indefinite iteration like while loop ,,,,definite iteration like for loop that repeat in  predefined number of times\n",
    "\n",
    "# Iterators take responsibility for two main actions:\n",
    "# 1-Returning the data from a stream or container(like tuple ,set,dictionary,list) one item at a time and\n",
    "# 2-Keeping track of the current and visited items\n",
    "\n",
    "# A Python object is considered an iterator when it implements :\n",
    "# .__iter__()\tCalled to initialize the iterator. It must return an iterator object.\n",
    "# .__next__()\tCalled to iterate over the iterator. It must return the next value in the data stream.\n",
    "# iterators in python:\n",
    "# 1-range:\n",
    "# for i in range(5):\n",
    "# print(i) # Output: 0 1 2 3 4\n",
    "# 2-map ,for a sequance of number do a job:\n",
    "# squares = map(lambda x: x**2, [1, 2, 3, 4, 5])\n",
    "# for square in squares:\n",
    "#     print(square) # Output: 1 4 9 16 25\n",
    "# 3-filter:if condition is provide it did sth\n",
    "# evens = filter(lambda x: x % 2 == 0, [1, 2, 3, 4, 5])\n",
    "# for even in evens:\n",
    "#     print(even) # Output: 2 4\n",
    "# 4-zip:two  sequences of numbers join together\n",
    "# letters = ['a', 'b', 'c']\n",
    "# numbers = [1, 2, 3]\n",
    "# pairs = zip(letters, numbers)\n",
    "# for pair in pairs:\n",
    "#     print(pair) # Output: ('a', 1) ('b', 2) ('c', 3)\n"
   ]
  },
  {
   "cell_type": "code",
   "execution_count": 7,
   "id": "61499c6a",
   "metadata": {},
   "outputs": [
    {
     "name": "stdout",
     "output_type": "stream",
     "text": [
      "0\n",
      "1\n",
      "2\n",
      "3\n",
      "4\n",
      "5\n"
     ]
    }
   ],
   "source": [
    "number=range(0,6)\n",
    "print(number)\n",
    "for i in number:\n",
    "    print(i)"
   ]
  },
  {
   "cell_type": "code",
   "execution_count": 15,
   "id": "bb208ff0",
   "metadata": {},
   "outputs": [
    {
     "name": "stdout",
     "output_type": "stream",
     "text": [
      "1\n",
      "2\n",
      "3\n",
      "4\n",
      "5\n",
      "6\n",
      "7\n",
      "8\n",
      "9\n",
      "10\n"
     ]
    },
    {
     "ename": "NameError",
     "evalue": "name 'StopIterationtop' is not defined",
     "output_type": "error",
     "traceback": [
      "\u001b[1;31m---------------------------------------------------------------------------\u001b[0m",
      "\u001b[1;31mNameError\u001b[0m                                 Traceback (most recent call last)",
      "Cell \u001b[1;32mIn[15], line 19\u001b[0m\n\u001b[0;32m     16\u001b[0m my_class \u001b[38;5;241m=\u001b[39m mynumber()\n\u001b[0;32m     17\u001b[0m my_iter \u001b[38;5;241m=\u001b[39m \u001b[38;5;28miter\u001b[39m(my_class)\n\u001b[1;32m---> 19\u001b[0m \u001b[38;5;28;01mfor\u001b[39;00m x \u001b[38;5;129;01min\u001b[39;00m my_iter:\n\u001b[0;32m     20\u001b[0m     \u001b[38;5;28mprint\u001b[39m(x)\n",
      "Cell \u001b[1;32mIn[15], line 11\u001b[0m, in \u001b[0;36mmynumber.__next__\u001b[1;34m(self)\u001b[0m\n\u001b[0;32m      9\u001b[0m \u001b[38;5;28;01mdef\u001b[39;00m \u001b[38;5;21m__next__\u001b[39m(\u001b[38;5;28mself\u001b[39m):\n\u001b[0;32m     10\u001b[0m     \u001b[38;5;28;01mif\u001b[39;00m \u001b[38;5;28mself\u001b[39m\u001b[38;5;241m.\u001b[39ma \u001b[38;5;241m>\u001b[39m \u001b[38;5;241m10\u001b[39m:\n\u001b[1;32m---> 11\u001b[0m         \u001b[38;5;28;01mraise\u001b[39;00m StopIterationtop\n\u001b[0;32m     12\u001b[0m     \u001b[38;5;28;01melse\u001b[39;00m:\n\u001b[0;32m     13\u001b[0m         \u001b[38;5;28mself\u001b[39m\u001b[38;5;241m.\u001b[39ma \u001b[38;5;241m+\u001b[39m\u001b[38;5;241m=\u001b[39m \u001b[38;5;241m1\u001b[39m\n",
      "\u001b[1;31mNameError\u001b[0m: name 'StopIterationtop' is not defined"
     ]
    }
   ],
   "source": [
    "# SequenceIterator. It’ll take a sequence data type as an argument and yield its items on demand.\n",
    "class mynumber:\n",
    "    def __init__(self):\n",
    "        self.a = 1\n",
    "# returns the current object, self:        \n",
    "    def __iter__(self):\n",
    "        return self\n",
    "    \n",
    "    def __next__(self):\n",
    "        if self.a > 10:\n",
    "            raise StopIterationtop\n",
    "        else:\n",
    "            self.a += 1\n",
    "            return self.a -1\n",
    "        \n",
    "my_class = mynumber()\n",
    "my_iter = iter(my_class)\n",
    "\n",
    "for x in my_iter:\n",
    "    print(x)"
   ]
  },
  {
   "cell_type": "code",
   "execution_count": null,
   "id": "fa3401ee",
   "metadata": {},
   "outputs": [],
   "source": [
    "class mysquare:\n",
    "    def __init__(self,seq):\n",
    "        self.a = 0\n",
    "        self.seq = seq\n",
    "    def __iter__(self):\n",
    "        return self\n",
    "    \n",
    "    def __next__(self):\n",
    "        if self.a < len(self.seq):\n",
    "            x = self.seq[self.a] ** 2\n",
    "            self.a += 1\n",
    "            return x\n",
    "        else:\n",
    "            return StopIteration\n",
    "        \n",
    "# my_class = mysquare\n",
    "# my_iter2 = iter(my_class)\n",
    "for x in mysquare([1,2,3]):\n",
    "    print(x)"
   ]
  },
  {
   "cell_type": "code",
   "execution_count": 28,
   "id": "8a8ca8e9",
   "metadata": {},
   "outputs": [
    {
     "name": "stdout",
     "output_type": "stream",
     "text": [
      "1\n",
      "4\n",
      "9\n",
      "16\n",
      "25\n"
     ]
    }
   ],
   "source": [
    "# square_iter.py\n",
    "\n",
    "class SquareIterator:\n",
    "    def __init__(self, sequence):\n",
    "        self._sequence = sequence\n",
    "        self._index = 0\n",
    "\n",
    "    def __iter__(self):\n",
    "        return self\n",
    "\n",
    "    def __next__(self):\n",
    "        if self._index < len(self._sequence):\n",
    "            square = self._sequence[self._index] ** 2\n",
    "            self._index += 1\n",
    "            return square\n",
    "        else:\n",
    "            raise StopIteration\n",
    "# square_iter.py\n",
    "\n",
    "\n",
    "\n",
    "for square in SquareIterator([1, 2, 3, 4, 5]):\n",
    "        print(square)\n"
   ]
  },
  {
   "cell_type": "code",
   "execution_count": null,
   "id": "111a20a3",
   "metadata": {},
   "outputs": [],
   "source": [
    "class FibonacciIterator:\n",
    "    def __init__(self, n=10):\n",
    "        self.n = n\n",
    "        self.current = 0\n",
    "        self.next = 1\n",
    "        self.index = 0\n",
    "\n",
    "    def __iter__(self):\n",
    "        return self\n",
    "\n",
    "    def __next__(self):\n",
    "        if self.index > self.n:\n",
    "            raise StopIteration\n",
    "        else:\n",
    "            result = self.current\n",
    "            self.current, self.next =( self.next, self.current + self.next)\n",
    "            self.index += 1\n",
    "            return result\n",
    "for result in FibonacciIterator():\n",
    "    print(result)"
   ]
  },
  {
   "cell_type": "code",
   "execution_count": null,
   "id": "93fed13a",
   "metadata": {},
   "outputs": [],
   "source": []
  },
  {
   "cell_type": "code",
   "execution_count": null,
   "id": "7d951ea7",
   "metadata": {},
   "outputs": [],
   "source": []
  }
 ],
 "metadata": {
  "kernelspec": {
   "display_name": "Python 3 (ipykernel)",
   "language": "python",
   "name": "python3"
  },
  "language_info": {
   "codemirror_mode": {
    "name": "ipython",
    "version": 3
   },
   "file_extension": ".py",
   "mimetype": "text/x-python",
   "name": "python",
   "nbconvert_exporter": "python",
   "pygments_lexer": "ipython3",
   "version": "3.11.5"
  }
 },
 "nbformat": 4,
 "nbformat_minor": 5
}
